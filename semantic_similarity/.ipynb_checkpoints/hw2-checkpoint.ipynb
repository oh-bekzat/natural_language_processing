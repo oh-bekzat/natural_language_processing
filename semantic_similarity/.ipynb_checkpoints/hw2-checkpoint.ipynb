{
 "cells": [
  {
   "cell_type": "code",
   "execution_count": 91,
   "id": "5affcd2e-c504-40b0-b6f5-6dfaf82f3ae6",
   "metadata": {},
   "outputs": [],
   "source": [
    "import nltk\n",
    "from nltk.corpus import wordnet as wn\n",
    "import fasttext\n",
    "ft = fasttext.load_model('cc.en.300.bin')\n",
    "from scipy.spatial.distance import cosine \n",
    "import numpy as np\n",
    "from scipy import stats"
   ]
  },
  {
   "cell_type": "code",
   "execution_count": 92,
   "id": "6360fd84-7432-41c7-b490-049b0272f632",
   "metadata": {},
   "outputs": [],
   "source": [
    "path = 'SimLex-999.txt'\n",
    "with open(path, 'r') as file:\n",
    "    next(file)\n",
    "    simlex = []\n",
    "    sl_scores = np.zeros(999, dtype=float)\n",
    "    for i, line in enumerate(file):\n",
    "        cols = line.strip().split('\\t')\n",
    "        word1 = cols[0]\n",
    "        word2 = cols[1]\n",
    "        pos = cols[2].lower()\n",
    "        simlex999 = float(cols[3])\n",
    "        simlex.append([word1, word2, pos, simlex999])\n",
    "        sl_scores[i]= simlex999"
   ]
  },
  {
   "cell_type": "code",
   "execution_count": 93,
   "id": "eaf14c0b-0964-4eef-8898-7062ba0d7093",
   "metadata": {},
   "outputs": [],
   "source": [
    "wn_scores = np.zeros(999, dtype=float)\n",
    "ft_scores = np.zeros(999, dtype=float)\n",
    "\n",
    "for i, pair in enumerate(simlex):\n",
    "    word1 = wn.synset(f'{pair[0]}.{pair[2]}.01')\n",
    "    word2 = wn.synset(f'{pair[1]}.{pair[2]}.01')\n",
    "    v1 = ft.get_sentence_vector(pair[0])\n",
    "    v2 = ft.get_sentence_vector(pair[1])\n",
    "    wn_score = wn.path_similarity(word1, word2)\n",
    "    ft_score = 1 - cosine(v1, v2)\n",
    "    wn_scores[i] = wn_score\n",
    "    ft_scores[i] = ft_score\n",
    "    # print(f'{pair[0]} & {pair[1]} - {wn_score} / {pair[3]} / {ft_score}')\n"
   ]
  },
  {
   "cell_type": "code",
   "execution_count": 94,
   "id": "22aa95bb-944e-49ce-b7e2-4bb4d3aa5e07",
   "metadata": {},
   "outputs": [
    {
     "name": "stdout",
     "output_type": "stream",
     "text": [
      "0.3301400933912036\n",
      "0.26242227714187827\n"
     ]
    }
   ],
   "source": [
    "res_ft = stats.kendalltau(sl_scores, ft_scores)\n",
    "res_wn = stats.kendalltau(sl_scores, wn_scores)\n",
    "print(res_ft[0])\n",
    "print(res_wn[0])"
   ]
  },
  {
   "cell_type": "code",
   "execution_count": null,
   "id": "8ddbf956-2102-4994-9bdb-45190d885f51",
   "metadata": {},
   "outputs": [],
   "source": []
  }
 ],
 "metadata": {
  "kernelspec": {
   "display_name": "Python 3 (ipykernel)",
   "language": "python",
   "name": "python3"
  },
  "language_info": {
   "codemirror_mode": {
    "name": "ipython",
    "version": 3
   },
   "file_extension": ".py",
   "mimetype": "text/x-python",
   "name": "python",
   "nbconvert_exporter": "python",
   "pygments_lexer": "ipython3",
   "version": "3.10.5"
  }
 },
 "nbformat": 4,
 "nbformat_minor": 5
}
