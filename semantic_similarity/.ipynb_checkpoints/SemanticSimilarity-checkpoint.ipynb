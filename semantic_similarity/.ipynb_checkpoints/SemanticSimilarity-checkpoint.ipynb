{
 "cells": [
  {
   "cell_type": "markdown",
   "metadata": {},
   "source": [
    "# Task 2: Semantic similarity\n",
    "## WordNet similarity\n",
    "Import NLTK and its WordNet tools, download WordNet data"
   ]
  },
  {
   "cell_type": "code",
   "execution_count": 33,
   "metadata": {},
   "outputs": [],
   "source": [
    "import nltk\n",
    "# nltk.download('wordnet')\n",
    "from nltk.corpus import wordnet as wn"
   ]
  },
  {
   "cell_type": "markdown",
   "metadata": {},
   "source": [
    "You can get a list of all synsets containing a specific word and also restrict the list by a part of speech.\n",
    "Further, you can access the synset's `lemmas()` and the actual words using `name()`."
   ]
  },
  {
   "cell_type": "code",
   "execution_count": 35,
   "metadata": {},
   "outputs": [
    {
     "name": "stdout",
     "output_type": "stream",
     "text": [
      "cat|true_cat| gloss: feline mammal usually having thick soft fur and no ability to roar: domestic cats; wildcats\n",
      "guy|cat|hombre|bozo| gloss: an informal term for a youth or man\n",
      "cat| gloss: a spiteful woman gossip\n",
      "kat|khat|qat|quat|cat|Arabian_tea|African_tea| gloss: the leaves of the shrub Catha edulis which are chewed like tobacco or used to make tea; has the effect of a euphoric stimulant\n",
      "cat-o'-nine-tails|cat| gloss: a whip with nine knotted cords\n",
      "Caterpillar|cat| gloss: a large tracked vehicle that is propelled by two endless metal belts; frequently used for moving earth in construction and farm work\n",
      "big_cat|cat| gloss: any of several large cats typically able to roar and living in the wild\n",
      "computerized_tomography|computed_tomography|CT|computerized_axial_tomography|computed_axial_tomography|CAT| gloss: a method of examining body organs by scanning them with X rays and using a computer to construct a series of cross-sectional scans along a single axis\n"
     ]
    }
   ],
   "source": [
    "for s in wn.synsets('cat', pos=wn.NOUN):\n",
    "    for l in s.lemmas():\n",
    "        print(l.name(), end='|')\n",
    "    print (' gloss:', s.definition())"
   ]
  },
  {
   "cell_type": "markdown",
   "metadata": {},
   "source": [
    "## Word embeddings\n",
    "Import the `fasttext` library and load the model. \n",
    "\n",
    "*In my experience, it's faster to manually download/unzip the model and provide a path to the local file.*"
   ]
  },
  {
   "cell_type": "code",
   "execution_count": 16,
   "metadata": {},
   "outputs": [
    {
     "name": "stderr",
     "output_type": "stream",
     "text": [
      "Warning : `load_model` does not return WordVectorModel or SupervisedModel any more, but a `FastText` object which is very similar.\n"
     ]
    }
   ],
   "source": [
    "import fasttext\n",
    "model = fasttext.load_model(\"cc.en.300.bin\")"
   ]
  },
  {
   "cell_type": "markdown",
   "metadata": {},
   "source": [
    "Import *cosine distance* from scipy. Note that it returns *1 – cos(u,v)*, since it is a distance (not similarity) measure."
   ]
  },
  {
   "cell_type": "code",
   "execution_count": 27,
   "metadata": {},
   "outputs": [],
   "source": [
    "from scipy.spatial.distance import cosine "
   ]
  },
  {
   "cell_type": "markdown",
   "metadata": {},
   "source": [
    "Get vectors for specific words, calculate cosine similarity between them"
   ]
  },
  {
   "cell_type": "code",
   "execution_count": 28,
   "metadata": {},
   "outputs": [],
   "source": [
    "v1 = model.get_sentence_vector('cat')\n",
    "v2 = model.get_sentence_vector('dog')"
   ]
  },
  {
   "cell_type": "code",
   "execution_count": 29,
   "metadata": {},
   "outputs": [
    {
     "data": {
      "text/plain": [
       "0.707861065864563"
      ]
     },
     "execution_count": 29,
     "metadata": {},
     "output_type": "execute_result"
    }
   ],
   "source": [
    "1 - cosine(v1, v2)"
   ]
  },
  {
   "cell_type": "code",
   "execution_count": 30,
   "metadata": {},
   "outputs": [],
   "source": [
    "v1 = model.get_sentence_vector('cat')\n",
    "v2 = model.get_sentence_vector('rocket')"
   ]
  },
  {
   "cell_type": "code",
   "execution_count": 31,
   "metadata": {},
   "outputs": [
    {
     "data": {
      "text/plain": [
       "0.1682339906692505"
      ]
     },
     "execution_count": 31,
     "metadata": {},
     "output_type": "execute_result"
    }
   ],
   "source": [
    "1 - cosine(v1, v2)"
   ]
  },
  {
   "cell_type": "markdown",
   "metadata": {},
   "source": [
    "Nearest neighbors and analogies"
   ]
  },
  {
   "cell_type": "code",
   "execution_count": 38,
   "metadata": {},
   "outputs": [
    {
     "data": {
      "text/plain": [
       "[(0.8463464975357056, 'dogs'),\n",
       " (0.7873005270957947, 'puppy'),\n",
       " (0.7692237496376038, 'pup'),\n",
       " (0.7435278296470642, 'canine'),\n",
       " (0.733370840549469, 'pet'),\n",
       " (0.7326501607894897, 'doggie'),\n",
       " (0.7242385745048523, 'dog--'),\n",
       " (0.7231176495552063, 'beagle'),\n",
       " (0.7229929566383362, 'dachshund'),\n",
       " (0.7078613042831421, 'cat')]"
      ]
     },
     "execution_count": 38,
     "metadata": {},
     "output_type": "execute_result"
    }
   ],
   "source": [
    "model.get_nearest_neighbors('dog')"
   ]
  },
  {
   "cell_type": "code",
   "execution_count": 48,
   "metadata": {},
   "outputs": [
    {
     "data": {
      "text/plain": [
       "[(0.6936634182929993, 'paris'),\n",
       " (0.6143798828125, 'france.'),\n",
       " (0.6094319224357605, 'strasbourg'),\n",
       " (0.6016628742218018, 'versailles'),\n",
       " (0.5976198315620422, 'avignon'),\n",
       " (0.5809492468833923, 'paris.'),\n",
       " (0.5772124528884888, 'montpellier'),\n",
       " (0.5710934996604919, 'lyon'),\n",
       " (0.57098788022995, 'england'),\n",
       " (0.5672321915626526, 'rennes')]"
      ]
     },
     "execution_count": 48,
     "metadata": {},
     "output_type": "execute_result"
    }
   ],
   "source": [
    "model.get_analogies('rome', 'italy', 'france')"
   ]
  }
 ],
 "metadata": {
  "kernelspec": {
   "display_name": "Python 3",
   "language": "python",
   "name": "python3"
  },
  "language_info": {
   "codemirror_mode": {
    "name": "ipython",
    "version": 3
   },
   "file_extension": ".py",
   "mimetype": "text/x-python",
   "name": "python",
   "nbconvert_exporter": "python",
   "pygments_lexer": "ipython3",
   "version": "3.9.0"
  }
 },
 "nbformat": 4,
 "nbformat_minor": 4
}
